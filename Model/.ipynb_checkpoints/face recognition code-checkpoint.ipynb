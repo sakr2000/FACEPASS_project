{
 "cells": [
  {
   "cell_type": "markdown",
   "id": "ec2a9afe",
   "metadata": {},
   "source": [
    "# Model "
   ]
  },
  {
   "cell_type": "code",
   "execution_count": null,
   "id": "a1d1735f",
   "metadata": {},
   "outputs": [],
   "source": [
    "import face_recognition\n",
    "import cv2\n",
    "from PIL import Image\n",
    "import os\n",
    "import glob\n",
    "import numpy as np\n",
    "\n",
    "known_face_encodings = []\n",
    "known_face_names = []\n",
    "frame_resizing = 0.25\n",
    "\n",
    "def load_encoding_images(images_path):\n",
    "    \"\"\"\n",
    "    Load encoding images from path\n",
    "    :param images_path:\n",
    "    :return:\n",
    "    \"\"\"\n",
    "    # Load Images\n",
    "    images_path = glob.glob(os.path.join(images_path, \"*.*\"))\n",
    "\n",
    "    print(\"{} encoding images found.\".format(len(images_path)))\n",
    "\n",
    "    # Store image encoding and names\n",
    "    for img_path in images_path:\n",
    "        img = cv2.imread(img_path)\n",
    "        rgb_img = cv2.cvtColor(img, cv2.COLOR_BGR2RGB)\n",
    "\n",
    "        # Get the filename only from the initial file path.\n",
    "        basename = os.path.basename(img_path)\n",
    "        (filename, ext) = os.path.splitext(basename)\n",
    "        # Get encoding\n",
    "        img_encoding = face_recognition.face_encodings(rgb_img)[0]\n",
    "\n",
    "        # Store file name and file encoding\n",
    "        known_face_encodings.append(img_encoding)\n",
    "        known_face_names.append(filename)\n",
    "    print(\"Encoding images loaded\")\n",
    "\n",
    "def detect_known_faces(frame):\n",
    "    small_frame = cv2.resize(frame, (0, 0), fx=frame_resizing, fy=frame_resizing)\n",
    "    # Find all the faces and face encodings in the current frame of video\n",
    "    # Convert the image from BGR color (which OpenCV uses) to RGB color (which face_recognition uses)\n",
    "    rgb_small_frame = cv2.cvtColor(small_frame, cv2.COLOR_BGR2RGB)\n",
    "    face_locations = face_recognition.face_locations(rgb_small_frame)\n",
    "    face_encodings = face_recognition.face_encodings(rgb_small_frame, face_locations)\n",
    "\n",
    "    face_names = []\n",
    "    for face_encoding in face_encodings:\n",
    "        # See if the face is a match for the known face(s)\n",
    "        matches = face_recognition.compare_faces(known_face_encodings, face_encoding)\n",
    "        name = \"Unknown\"\n",
    "\n",
    "        # # If a match was found in known_face_encodings, just use the first one.\n",
    "        # if True in matches:\n",
    "        #     first_match_index = matches.index(True)\n",
    "        #     name = known_face_names[first_match_index]\n",
    "\n",
    "        # Or instead, use the known face with the smallest distance to the new face\n",
    "        face_distances = face_recognition.face_distance(known_face_encodings, face_encoding)\n",
    "        best_match_index = np.argmin(face_distances)\n",
    "        if matches[best_match_index]:\n",
    "            name = known_face_names[best_match_index]\n",
    "        face_names.append(name)\n",
    "\n",
    "    # Convert to numpy array to adjust coordinates with frame resizing quickly\n",
    "    face_locations = np.array(face_locations)\n",
    "    face_locations = face_locations / frame_resizing\n",
    "    return face_locations.astype(int), face_names\n",
    "\n",
    "# Encode faces from a folder\n",
    "load_encoding_images(\"images/\")"
   ]
  },
  {
   "cell_type": "code",
   "execution_count": null,
   "id": "911f65d3",
   "metadata": {},
   "outputs": [],
   "source": [
    "# Load Camera\n",
    "cap = cv2.VideoCapture(0)\n",
    "\n",
    "while True:\n",
    "    ret, frame = cap.read()\n",
    "\n",
    "    # Detect Faces\n",
    "    face_locations, face_names = detect_known_faces(frame)\n",
    "    for face_loc, name in zip(face_locations, face_names):\n",
    "        y1, x2, y2, x1 = face_loc[0], face_loc[1], face_loc[2], face_loc[3]\n",
    "\n",
    "        cv2.putText(frame, name,(x1, y1 - 10), cv2.FONT_HERSHEY_DUPLEX, 1, (0, 0, 200), 2)\n",
    "        cv2.rectangle(frame, (x1, y1), (x2, y2), (0, 0, 200), 4)\n",
    "                \n",
    "    cv2.imshow(\"Frame\", frame)\n",
    "\n",
    "    key = cv2.waitKey(1)\n",
    "    if key == 27:\n",
    "        break\n",
    "\n",
    "cap.release()\n",
    "cv2.destroyAllWindows()"
   ]
  },
  {
   "cell_type": "markdown",
   "id": "0570dda9",
   "metadata": {},
   "source": [
    "# Server code "
   ]
  },
  {
   "cell_type": "code",
   "execution_count": 9,
   "id": "c16ff714",
   "metadata": {},
   "outputs": [
    {
     "name": "stdout",
     "output_type": "stream",
     "text": [
      " * Serving Flask app \"__main__\" (lazy loading)\n",
      " * Environment: production\n",
      "\u001b[31m   WARNING: This is a development server. Do not use it in a production deployment.\u001b[0m\n",
      "\u001b[2m   Use a production WSGI server instead.\u001b[0m\n",
      " * Debug mode: off\n"
     ]
    },
    {
     "name": "stderr",
     "output_type": "stream",
     "text": [
      " * Running on http://127.0.0.1:5000/ (Press CTRL+C to quit)\n",
      "127.0.0.1 - - [10/Apr/2023 23:46:28] \"GET / HTTP/1.1\" 200 -\n",
      "127.0.0.1 - - [10/Apr/2023 23:46:51] \"POST / HTTP/1.1\" 200 -\n",
      "127.0.0.1 - - [10/Apr/2023 23:47:17] \"POST / HTTP/1.1\" 200 -\n",
      "127.0.0.1 - - [10/Apr/2023 23:47:25] \"GET / HTTP/1.1\" 200 -\n",
      "127.0.0.1 - - [10/Apr/2023 23:48:11] \"POST /data HTTP/1.1\" 200 -\n",
      "127.0.0.1 - - [10/Apr/2023 23:48:32] \"POST /data HTTP/1.1\" 200 -\n"
     ]
    }
   ],
   "source": [
    "# server code\n",
    "\n",
    "from flask import Flask , request , render_template,url_for\n",
    "\n",
    "app = Flask(__name__)\n",
    "\n",
    "@app.route('/', methods =[\"GET\", \"POST\"])\n",
    "def index():\n",
    "    return render_template(\"index.html\")\n",
    "\n",
    "@app.route(\"/data\",methods=[\"POST\"])\n",
    "def data():\n",
    "    if request.method ==\"POST\":\n",
    "        img = request.form.get(\"image\")\n",
    "        return {'massage':\"image loaded !\"}\n",
    "\n",
    "if __name__=='__main__':\n",
    "   app.run(debug=False,port=5000)"
   ]
  },
  {
   "cell_type": "code",
   "execution_count": null,
   "id": "124d6dbe",
   "metadata": {},
   "outputs": [],
   "source": []
  },
  {
   "cell_type": "code",
   "execution_count": null,
   "id": "04126816",
   "metadata": {},
   "outputs": [],
   "source": []
  }
 ],
 "metadata": {
  "kernelspec": {
   "display_name": "Python 3 (ipykernel)",
   "language": "python",
   "name": "python3"
  },
  "language_info": {
   "codemirror_mode": {
    "name": "ipython",
    "version": 3
   },
   "file_extension": ".py",
   "mimetype": "text/x-python",
   "name": "python",
   "nbconvert_exporter": "python",
   "pygments_lexer": "ipython3",
   "version": "3.9.7"
  },
  "vp": {
   "vp_config_version": "1.0.0",
   "vp_menu_width": 273,
   "vp_note_display": false,
   "vp_note_width": 0,
   "vp_position": {
    "width": 278
   },
   "vp_section_display": false,
   "vp_signature": "VisualPython"
  }
 },
 "nbformat": 4,
 "nbformat_minor": 5
}
